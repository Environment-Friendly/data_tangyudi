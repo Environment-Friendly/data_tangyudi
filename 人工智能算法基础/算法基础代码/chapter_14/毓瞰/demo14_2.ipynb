{
 "cells": [
  {
   "cell_type": "code",
   "execution_count": 1,
   "metadata": {},
   "outputs": [],
   "source": [
    "#数据集和数据处理\n",
    "import warnings\n",
    "warnings.filterwarnings('ignore')\n",
    "import pandas as pd\n",
    "import numpy as np\n",
    "import matplotlib.pyplot as plt\n",
    "plt.rcParams[\"font.sans-serif\"] = [\"SimHei\"]  #显示中文\n",
    "%matplotlib inline\n",
    "from sklearn.model_selection import GridSearchCV\n",
    "import seaborn as sns\n",
    "from sklearn.model_selection import train_test_split as TTS\n",
    "from imblearn.over_sampling import SMOTE\n",
    "from sklearn import metrics\n",
    "from xgboost.sklearn import XGBClassifier\n",
    "import xgboost as xgb"
   ]
  },
  {
   "cell_type": "code",
   "execution_count": 2,
   "metadata": {},
   "outputs": [
    {
     "data": {
      "text/html": [
       "<div>\n",
       "<style scoped>\n",
       "    .dataframe tbody tr th:only-of-type {\n",
       "        vertical-align: middle;\n",
       "    }\n",
       "\n",
       "    .dataframe tbody tr th {\n",
       "        vertical-align: top;\n",
       "    }\n",
       "\n",
       "    .dataframe thead th {\n",
       "        text-align: right;\n",
       "    }\n",
       "</style>\n",
       "<table border=\"1\" class=\"dataframe\">\n",
       "  <thead>\n",
       "    <tr style=\"text-align: right;\">\n",
       "      <th></th>\n",
       "      <th>customerID</th>\n",
       "      <th>gender</th>\n",
       "      <th>SeniorCitizen</th>\n",
       "      <th>Partner</th>\n",
       "      <th>Dependents</th>\n",
       "      <th>tenure</th>\n",
       "      <th>PhoneService</th>\n",
       "      <th>MultipleLines</th>\n",
       "      <th>InternetService</th>\n",
       "      <th>OnlineSecurity</th>\n",
       "      <th>...</th>\n",
       "      <th>DeviceProtection</th>\n",
       "      <th>TechSupport</th>\n",
       "      <th>StreamingTV</th>\n",
       "      <th>StreamingMovies</th>\n",
       "      <th>Contract</th>\n",
       "      <th>PaperlessBilling</th>\n",
       "      <th>PaymentMethod</th>\n",
       "      <th>MonthlyCharges</th>\n",
       "      <th>TotalCharges</th>\n",
       "      <th>Churn</th>\n",
       "    </tr>\n",
       "  </thead>\n",
       "  <tbody>\n",
       "    <tr>\n",
       "      <th>0</th>\n",
       "      <td>7590-VHVEG</td>\n",
       "      <td>Female</td>\n",
       "      <td>0</td>\n",
       "      <td>Yes</td>\n",
       "      <td>No</td>\n",
       "      <td>1</td>\n",
       "      <td>No</td>\n",
       "      <td>No phone service</td>\n",
       "      <td>DSL</td>\n",
       "      <td>No</td>\n",
       "      <td>...</td>\n",
       "      <td>No</td>\n",
       "      <td>No</td>\n",
       "      <td>No</td>\n",
       "      <td>No</td>\n",
       "      <td>Month-to-month</td>\n",
       "      <td>Yes</td>\n",
       "      <td>Electronic check</td>\n",
       "      <td>29.85</td>\n",
       "      <td>29.85</td>\n",
       "      <td>No</td>\n",
       "    </tr>\n",
       "    <tr>\n",
       "      <th>1</th>\n",
       "      <td>5575-GNVDE</td>\n",
       "      <td>Male</td>\n",
       "      <td>0</td>\n",
       "      <td>No</td>\n",
       "      <td>No</td>\n",
       "      <td>34</td>\n",
       "      <td>Yes</td>\n",
       "      <td>No</td>\n",
       "      <td>DSL</td>\n",
       "      <td>Yes</td>\n",
       "      <td>...</td>\n",
       "      <td>Yes</td>\n",
       "      <td>No</td>\n",
       "      <td>No</td>\n",
       "      <td>No</td>\n",
       "      <td>One year</td>\n",
       "      <td>No</td>\n",
       "      <td>Mailed check</td>\n",
       "      <td>56.95</td>\n",
       "      <td>1889.5</td>\n",
       "      <td>No</td>\n",
       "    </tr>\n",
       "    <tr>\n",
       "      <th>2</th>\n",
       "      <td>3668-QPYBK</td>\n",
       "      <td>Male</td>\n",
       "      <td>0</td>\n",
       "      <td>No</td>\n",
       "      <td>No</td>\n",
       "      <td>2</td>\n",
       "      <td>Yes</td>\n",
       "      <td>No</td>\n",
       "      <td>DSL</td>\n",
       "      <td>Yes</td>\n",
       "      <td>...</td>\n",
       "      <td>No</td>\n",
       "      <td>No</td>\n",
       "      <td>No</td>\n",
       "      <td>No</td>\n",
       "      <td>Month-to-month</td>\n",
       "      <td>Yes</td>\n",
       "      <td>Mailed check</td>\n",
       "      <td>53.85</td>\n",
       "      <td>108.15</td>\n",
       "      <td>Yes</td>\n",
       "    </tr>\n",
       "    <tr>\n",
       "      <th>3</th>\n",
       "      <td>7795-CFOCW</td>\n",
       "      <td>Male</td>\n",
       "      <td>0</td>\n",
       "      <td>No</td>\n",
       "      <td>No</td>\n",
       "      <td>45</td>\n",
       "      <td>No</td>\n",
       "      <td>No phone service</td>\n",
       "      <td>DSL</td>\n",
       "      <td>Yes</td>\n",
       "      <td>...</td>\n",
       "      <td>Yes</td>\n",
       "      <td>Yes</td>\n",
       "      <td>No</td>\n",
       "      <td>No</td>\n",
       "      <td>One year</td>\n",
       "      <td>No</td>\n",
       "      <td>Bank transfer (automatic)</td>\n",
       "      <td>42.30</td>\n",
       "      <td>1840.75</td>\n",
       "      <td>No</td>\n",
       "    </tr>\n",
       "    <tr>\n",
       "      <th>4</th>\n",
       "      <td>9237-HQITU</td>\n",
       "      <td>Female</td>\n",
       "      <td>0</td>\n",
       "      <td>No</td>\n",
       "      <td>No</td>\n",
       "      <td>2</td>\n",
       "      <td>Yes</td>\n",
       "      <td>No</td>\n",
       "      <td>Fiber optic</td>\n",
       "      <td>No</td>\n",
       "      <td>...</td>\n",
       "      <td>No</td>\n",
       "      <td>No</td>\n",
       "      <td>No</td>\n",
       "      <td>No</td>\n",
       "      <td>Month-to-month</td>\n",
       "      <td>Yes</td>\n",
       "      <td>Electronic check</td>\n",
       "      <td>70.70</td>\n",
       "      <td>151.65</td>\n",
       "      <td>Yes</td>\n",
       "    </tr>\n",
       "  </tbody>\n",
       "</table>\n",
       "<p>5 rows × 21 columns</p>\n",
       "</div>"
      ],
      "text/plain": [
       "   customerID  gender  SeniorCitizen Partner Dependents  tenure PhoneService  \\\n",
       "0  7590-VHVEG  Female              0     Yes         No       1           No   \n",
       "1  5575-GNVDE    Male              0      No         No      34          Yes   \n",
       "2  3668-QPYBK    Male              0      No         No       2          Yes   \n",
       "3  7795-CFOCW    Male              0      No         No      45           No   \n",
       "4  9237-HQITU  Female              0      No         No       2          Yes   \n",
       "\n",
       "      MultipleLines InternetService OnlineSecurity  ... DeviceProtection  \\\n",
       "0  No phone service             DSL             No  ...               No   \n",
       "1                No             DSL            Yes  ...              Yes   \n",
       "2                No             DSL            Yes  ...               No   \n",
       "3  No phone service             DSL            Yes  ...              Yes   \n",
       "4                No     Fiber optic             No  ...               No   \n",
       "\n",
       "  TechSupport StreamingTV StreamingMovies        Contract PaperlessBilling  \\\n",
       "0          No          No              No  Month-to-month              Yes   \n",
       "1          No          No              No        One year               No   \n",
       "2          No          No              No  Month-to-month              Yes   \n",
       "3         Yes          No              No        One year               No   \n",
       "4          No          No              No  Month-to-month              Yes   \n",
       "\n",
       "               PaymentMethod MonthlyCharges  TotalCharges Churn  \n",
       "0           Electronic check          29.85         29.85    No  \n",
       "1               Mailed check          56.95        1889.5    No  \n",
       "2               Mailed check          53.85        108.15   Yes  \n",
       "3  Bank transfer (automatic)          42.30       1840.75    No  \n",
       "4           Electronic check          70.70        151.65   Yes  \n",
       "\n",
       "[5 rows x 21 columns]"
      ]
     },
     "execution_count": 2,
     "metadata": {},
     "output_type": "execute_result"
    }
   ],
   "source": [
    "#输入数据集\n",
    "Telco_data=pd.read_csv(\"Telco-Customer-Churn.csv\")\n",
    "Telco_data.head()\n"
   ]
  },
  {
   "cell_type": "code",
   "execution_count": 3,
   "metadata": {},
   "outputs": [
    {
     "data": {
      "text/plain": [
       "(7043, 21)"
      ]
     },
     "execution_count": 3,
     "metadata": {},
     "output_type": "execute_result"
    }
   ],
   "source": [
    "Telco_data.shape"
   ]
  },
  {
   "cell_type": "code",
   "execution_count": 4,
   "metadata": {},
   "outputs": [
    {
     "name": "stdout",
     "output_type": "stream",
     "text": [
      "<class 'pandas.core.frame.DataFrame'>\n",
      "RangeIndex: 7043 entries, 0 to 7042\n",
      "Data columns (total 21 columns):\n",
      "customerID          7043 non-null object\n",
      "gender              7043 non-null object\n",
      "SeniorCitizen       7043 non-null int64\n",
      "Partner             7043 non-null object\n",
      "Dependents          7043 non-null object\n",
      "tenure              7043 non-null int64\n",
      "PhoneService        7043 non-null object\n",
      "MultipleLines       7043 non-null object\n",
      "InternetService     7043 non-null object\n",
      "OnlineSecurity      7043 non-null object\n",
      "OnlineBackup        7043 non-null object\n",
      "DeviceProtection    7043 non-null object\n",
      "TechSupport         7043 non-null object\n",
      "StreamingTV         7043 non-null object\n",
      "StreamingMovies     7043 non-null object\n",
      "Contract            7043 non-null object\n",
      "PaperlessBilling    7043 non-null object\n",
      "PaymentMethod       7043 non-null object\n",
      "MonthlyCharges      7043 non-null float64\n",
      "TotalCharges        7043 non-null object\n",
      "Churn               7043 non-null object\n",
      "dtypes: float64(1), int64(2), object(18)\n",
      "memory usage: 1.1+ MB\n"
     ]
    }
   ],
   "source": [
    "Telco_data.info()"
   ]
  },
  {
   "cell_type": "code",
   "execution_count": 5,
   "metadata": {},
   "outputs": [],
   "source": [
    "# 将TotalCharges列中的空值全部替换为nan\n",
    "Telco_data.replace(to_replace=r\"^\\s*$\",value=np.nan,regex=True,inplace=True)\n",
    "# 将TotalCharges列中的空值行全部删除，\n",
    "Telco_data.dropna(axis=0, how=\"any\", inplace=True)#删除缺失值的记录\n",
    "# 将值转变为浮点型\n",
    "Telco_data[\"TotalCharges\"] = pd.to_numeric(Telco_data[\"TotalCharges\"])"
   ]
  },
  {
   "cell_type": "code",
   "execution_count": 6,
   "metadata": {},
   "outputs": [
    {
     "data": {
      "text/plain": [
       "(7032, 21)"
      ]
     },
     "execution_count": 6,
     "metadata": {},
     "output_type": "execute_result"
    }
   ],
   "source": [
    "Telco_data.shape"
   ]
  },
  {
   "cell_type": "code",
   "execution_count": 7,
   "metadata": {},
   "outputs": [],
   "source": [
    "#为方便后续的特征选择，通过.columns获得所有特征属性，代码如下：\n",
    "#获取特征名称\n",
    "columns=Telco_data.columns\n",
    "#将标签提取出来，代码如下：\n",
    "# 在特征中去除掉标签\n",
    "features_columns=columns.delete(len(columns)-1)\n",
    "#获取特征\n",
    "X=Telco_data[features_columns]\n",
    "#获取标签\n",
    "Y=Telco_data[\"Churn\"]"
   ]
  },
  {
   "cell_type": "code",
   "execution_count": 8,
   "metadata": {},
   "outputs": [],
   "source": [
    "#20个输入特征中，与顾客流失关联性较大的指标包括：\n",
    "#是否使用网络服务，以及在使用了网络服务的情况下是否采用采用网络安全、网络安全、网络备份、设备保护、技术支持，是否为老年人，合同期限，已使用年限，支付方式，月消费，即特征：InternetService、OnlineSecurity、OnlineBackup、DeviceProtection、TechSupport、SeniorCitizen、Contract、tenure、PaymentMethod、MonthlyCharges，选出这些特征作为样本数据，\n",
    "features_columns=[\"SeniorCitizen\",\"Contract\",\"InternetService\",\n",
    "                  \"PaymentMethod\",\"OnlineSecurity\",\"OnlineBackup\",\n",
    "                  \"DeviceProtection\",\"TechSupport\",\"tenure\",\n",
    "                  \"MonthlyCharges\"]\n",
    "X=Telco_data[features_columns]"
   ]
  },
  {
   "cell_type": "markdown",
   "metadata": {},
   "source": [
    "特征工程"
   ]
  },
  {
   "cell_type": "code",
   "execution_count": 9,
   "metadata": {},
   "outputs": [],
   "source": [
    "#1)\t将标签数据分离转化为0，1形式，把No转换为0，把Yes转换为1。\n",
    "Y=np.where(Telco_data[\"Churn\"] == \"Yes\",1,0)"
   ]
  },
  {
   "cell_type": "code",
   "execution_count": 10,
   "metadata": {},
   "outputs": [],
   "source": [
    "#2)\t是否老人的特征已经是数值，不用处理，只是获取特征，即X[\"SeniorCitizen\"]\n",
    "SeniorCitizen=X[\"SeniorCitizen\"].values.reshape(-1,1)"
   ]
  },
  {
   "cell_type": "code",
   "execution_count": 11,
   "metadata": {},
   "outputs": [],
   "source": [
    "#3)\t处理标称属性的离散型的数据，即数据值只提供足够信息区分对象，而本身不具有任何顺序或数值计算的意义。本案例中属于这类特征的变量有：合同期限、是否使用网络服务。属性\"Contract\"有三个属性值分别为\"Month-to-month\", \"One year\", \"Two year\"，属性\"InternetService\"有三个属性值分别为\"No\", \"No internet service\", \"Yes\"。采用One-Hot的方式进行编码，构造虚拟变量。\n",
    "Contract=X[\"Contract\"]\n",
    "Contract_dummies=pd.get_dummies(Contract).values\n",
    "InternetService=X[\"InternetService\"]#\n",
    "InternetService_dummies=pd.get_dummies(InternetService).values"
   ]
  },
  {
   "cell_type": "code",
   "execution_count": 12,
   "metadata": {},
   "outputs": [],
   "source": [
    "#4)\tXGBoost无法处理字符串类型的数据，所以需要一些方法将字符串数据转化为数据。鉴于有些属性的值对模型有用，有些属性值是冗余的，因此，采用0-1变量进行编码，就可以表达其包含的信息内容，不必将其每一个类别都采用虚拟变量表示出来。经分析这类特征包括：PaymentMethod ，OnlineSecurity，OnlineBackup，DeviceProtection ，TechSupport。例如，PaymentMethod（支付方式）特征值有\"Electronic check\", \"Mailed check\", \"Bank transfer (automatic)\",\"Credit card (automatic)\"，但是只有值为\"Electronic check\"的情况下，流失率才会出现明显的差异，因此PaymentMethod属性只需区分是\"Electronic check\"还是非\"Electronic check\"即可，其他属性的分析也类似。采用0-1变量进行对该类属性进行编码，代码如下：\n",
    "#将PaymentMethod ，OnlineSecurity，OnlineBackup，DeviceProtection ，TechSupport 转化为0-1编码\n",
    "PaymentMethod=np.where(X[\"PaymentMethod\"]== \n",
    "                       \"Electronic check\",1,0).reshape(-1,1)\n",
    "OnlineSecurity=np.where(X[\"OnlineSecurity\"] == \"Yes\",1,0).reshape(-1,1)\n",
    "OnlineBackup=np.where(X[\"OnlineBackup\"] == \"Yes\",1,0).reshape(-1,1)\n",
    "DeviceProtection=np.where(X[\"DeviceProtection\"]== \"Yes\",1,0).reshape(-1,1)\n",
    "TechSupport=np.where(X[\"TechSupport\"]== \"Yes\",1,0).reshape(-1,1)\n"
   ]
  },
  {
   "cell_type": "code",
   "execution_count": 13,
   "metadata": {},
   "outputs": [],
   "source": [
    "#5)\t数值型数据的处理，目前属于该类的属性有：tenure，MonthlyCharges。可以采用连续特征离散化的处理方式，本案例采用无监督分箱中的等频分箱进行操作。代码如下：\n",
    "tenure=X[\"tenure\"]# tenure特征离散化\n",
    "tenure_group=pd.qcut(tenure,6)#将tenure分6组\n",
    "tenure_dummies=pd.get_dummies(tenure_group).values\n",
    "MonthlyCharges=X[\"MonthlyCharges\"]# MonthlyCharges特征离散化\n",
    "MonthlyCharges_group=pd.qcut(MonthlyCharges,5)#将MonthlyCharge分6组\n",
    "MonthlyCharges_dummies=pd.get_dummies(MonthlyCharges_group).values\n"
   ]
  },
  {
   "cell_type": "code",
   "execution_count": 14,
   "metadata": {},
   "outputs": [],
   "source": [
    "#将所有输入合并，最终得到模型的属性。\n",
    "X=np.concatenate((SeniorCitizen,Contract_dummies,InternetService_dummies,\n",
    "                  PaymentMethod,OnlineSecurity,OnlineBackup,\n",
    "                  DeviceProtection,TechSupport,tenure_dummies,\n",
    "                  MonthlyCharges_dummies),axis=1)"
   ]
  },
  {
   "cell_type": "code",
   "execution_count": 15,
   "metadata": {},
   "outputs": [
    {
     "data": {
      "text/plain": [
       "(7032, 23)"
      ]
     },
     "execution_count": 15,
     "metadata": {},
     "output_type": "execute_result"
    }
   ],
   "source": [
    "#使用.shape查看新的特征维度，结果为(7032, 23)。\n",
    "X.shape"
   ]
  },
  {
   "cell_type": "code",
   "execution_count": 16,
   "metadata": {},
   "outputs": [
    {
     "data": {
      "text/plain": [
       "Text(0.5, 1.0, '客户流失情况')"
      ]
     },
     "execution_count": 16,
     "metadata": {},
     "output_type": "execute_result"
    },
    {
     "data": {
      "image/png": "[encoded data removed]",
      "text/plain": [
       "<Figure size 432x288 with 1 Axes>"
      ]
     },
     "metadata": {},
     "output_type": "display_data"
    }
   ],
   "source": [
    "#4.\t样本不均衡解决方案\n",
    "#数据集存在严重不均衡时，预测得出的结论也是有偏的，因此，在构建模型之前，需要分析是否有样本不均衡的情况。\n",
    "counts =pd.Series(Y).value_counts()\n",
    "plt.pie(counts, labels = counts.index, autopct=\"%.2f%%\");\n",
    "plt.title(\"客户流失情况\")\n"
   ]
  },
  {
   "cell_type": "code",
   "execution_count": 17,
   "metadata": {},
   "outputs": [
    {
     "name": "stdout",
     "output_type": "stream",
     "text": [
      "训练集特征维度: (7276, 23)\n",
      "测试集标签维度: (2110, 23)\n",
      "训练集标签维度: (7276,)\n",
      "测试集标签维度: (2110,)\n",
      "重抽样前的类别比例：\n",
      " 0    0.73913\n",
      "1    0.26087\n",
      "dtype: float64\n",
      "重抽样后的类别比例：\n",
      " 1    0.5\n",
      "0    0.5\n",
      "dtype: float64\n"
     ]
    }
   ],
   "source": [
    "#样本不均衡解决方案\n",
    "# 将数据拆分为训练集和测试集\n",
    "Xtrain1,Xtest,Ytrain1,Ytest = TTS(X,Y,test_size=0.3,random_state=420)\n",
    "# 运用SMOTE算法实现训练数据集的平衡\n",
    "oversampler=SMOTE(random_state=0)\n",
    "Xtrain,Ytrain=oversampler.fit_sample(Xtrain1,Ytrain1)\n",
    "print(\"训练集特征维度:\", Xtrain.shape)\n",
    "print(\"测试集标签维度:\", Xtest.shape)\n",
    "print(\"训练集标签维度:\", Ytrain.shape)\n",
    "print(\"测试集标签维度:\", Ytest.shape)\n",
    "# 重抽样前的类别比例\n",
    "print(\"重抽样前的类别比例：\\n\",\n",
    "      pd.Series(Ytrain1).value_counts()/len(Ytrain1))\n",
    "# 重抽样后的类别比例\n",
    "print(\"重抽样后的类别比例：\\n\",\n",
    "      pd.Series(Ytrain).value_counts()/len(Ytrain))\n"
   ]
  },
  {
   "cell_type": "markdown",
   "metadata": {},
   "source": [
    "xgboost模型构建"
   ]
  },
  {
   "cell_type": "code",
   "execution_count": 18,
   "metadata": {},
   "outputs": [],
   "source": [
    "#定义了一个二分类问题预测结果输出的函数，实现输出概率，评价指标：准确率、召回率、AUC、混淆矩阵、分类报告等结果信息。\n",
    "def print_eval(Ypred,Ypredprob,Ytest,):\n",
    "    '''\n",
    "    :param Ypred：预测的分类结果\n",
    "    :param Ypredprob：预测的分类概率\n",
    "    :param Ytest：真实值\n",
    "    :return: None\n",
    "    '''\n",
    "    print (\"AUC: %.4f\" % metrics.roc_auc_score(Ytest, Ypredprob))\n",
    "    print (\"Accuracy: %.4f\" % metrics.accuracy_score(Ytest, Ypred))\n",
    "    print (\"Recall: %.4f\" % metrics.recall_score(Ytest, Ypred))\n",
    "    print (\"F1-score: %.4f\" %metrics.f1_score(Ytest, Ypred))\n",
    "    print (\"Precesion: %.4f\" %metrics.precision_score(Ytest, Ypred))\n",
    "    print(\"分类报告：\\n\",metrics.classification_report(Ytest, Ypred))\n",
    "    confusion_matrix_result = metrics.confusion_matrix(Ytest, Ypred)\n",
    "    print(\"混淆矩阵：\\n\",confusion_matrix_result)\n",
    "    # 利用热力图对于结果进行可视化\n",
    "    plt.figure(figsize=(8, 6))\n",
    "    sns.heatmap(confusion_matrix_result, annot=True, cmap=\"Blues\",fmt=\".0f\")\n",
    "    plt.xlabel(\"Predicted labels\")\n",
    "    plt.ylabel(\"True labels\")\n",
    "    plt.show()\n"
   ]
  },
  {
   "cell_type": "code",
   "execution_count": 19,
   "metadata": {},
   "outputs": [],
   "source": [
    "#定义一个用于交叉验证的函数，该代码如下：\n",
    "def modelfit( model, X_train, X_test, Y_train, Y_test, useTrainCV=True, \n",
    "             cv_folds=5, early_stopping_rounds=50 ):\n",
    "    '''\n",
    "    :param model：xgboost模型\n",
    "    :param X_train, X_test, Y_train, Y_test：训练集、测试集\n",
    "    : param useTrainCV：是否使用cv函数\n",
    "    :return: model：xgboost模型\n",
    "    '''\n",
    "    #若训练中使用交叉验证\n",
    "    if useTrainCV:\n",
    "        #获取模型参数\n",
    "        xgb_param = model.get_xgb_params()\n",
    "        num_boost=model.get_params()[\"n_estimators\"]\n",
    "        Dtrain = xgb.DMatrix(X_train, Y_train )\n",
    "        cv_result  = xgb.cv(xgb_param, Dtrain, \n",
    "                          num_boost_round=num_boost, \n",
    "                          nfold=cv_folds,metrics=\"auc\", \n",
    "                          early_stopping_rounds=early_stopping_rounds)\n",
    "        model.set_params( n_estimators=cv_result .shape[0] )\n",
    "    \n",
    "    print( \"n_estimators 最优值: %d\" % cv_result .shape[0] )\n",
    "    \n",
    "    # 在训练集上训练model，评估指标为AUC\n",
    "    model.fit( X_train, Y_train, eval_metric=\"auc\" )\n",
    "        \n",
    "    # 根据训练好的模型，在训练数据上进行预测\n",
    "    pred_train = model.predict( X_train )\n",
    "    predprob_train = model.predict_proba( X_train )[:,1]\n",
    "    \n",
    "    # 根据训练好的模型，在测试数据上进行预测\n",
    "    pred_test = model.predict( X_test )\n",
    "    predprob_test = model.predict_proba( X_test )[:,1]    \n",
    "    \n",
    "    #输出预测的结果分析\n",
    "    print(\"训练数据的结果分析：\\n\")\n",
    "    print_eval(pred_train, predprob_train, Y_train)\n",
    "    print(\"测试数据的结果分析：\\n\")\n",
    "    print_eval(pred_test,predprob_test,Y_test)\n",
    "    return model"
   ]
  },
  {
   "cell_type": "code",
   "execution_count": 23,
   "metadata": {},
   "outputs": [
    {
     "name": "stdout",
     "output_type": "stream",
     "text": [
      "AUC: 0.8215\n",
      "Accuracy: 0.7664\n",
      "Recall: 0.6872\n",
      "F1-score: 0.6199\n",
      "Precesion: 0.5646\n",
      "分类报告：\n",
      "               precision    recall  f1-score   support\n",
      "\n",
      "           0       0.87      0.80      0.83      1525\n",
      "           1       0.56      0.69      0.62       585\n",
      "\n",
      "    accuracy                           0.77      2110\n",
      "   macro avg       0.72      0.74      0.73      2110\n",
      "weighted avg       0.78      0.77      0.77      2110\n",
      "\n",
      "混淆矩阵：\n",
      " [[1215  310]\n",
      " [ 183  402]]\n"
     ]
    },
    {
     "data": {
      "image/png": "[encoded data removed]",
      "text/plain": [
       "<Figure size 576x432 with 2 Axes>"
      ]
     },
     "metadata": {
      "needs_background": "light"
     },
     "output_type": "display_data"
    }
   ],
   "source": [
    "#设seed为统一值\n",
    "seed=18 \n",
    "#设计模型参数\n",
    "xgb_params_sklearn = {\n",
    "    \"n_estimators\": 1000, #基础模型的数量\n",
    "    \"booster\": \"gbtree\",  #基础模型的类型\n",
    "    \"objective\": \"binary:logistic\",#二分类问题\n",
    "    \"seed\": seed,         #随机种子\n",
    "    \"learning_rate\": 0.1, #学习率 \n",
    "    \"gamma\": 0.1,         # 用于控制是否后剪枝的参数,越大越保守\n",
    "    \"colsample_bytree\": 0.8,# 生成模型时进行的列采样 \n",
    "    \"subsample\": 0.8,       # 随机采样训练样本 \n",
    "    \"max_depth\": 5,         # 构建模型的深度，越大越容易过拟合\n",
    "    \"min_child_weight\": 1,  #最小叶子节点样本权重之和\n",
    "    \"eval_metric\": \"auc\",   #模型训练的损失函数为AUC\n",
    "    \"nthread\": 4,           # CPU线程数 \n",
    "}\n",
    "\n",
    "#训练模型\n",
    "bst_sklearn=XGBClassifier(**xgb_params_sklearn,use_label_encoder=False)\n",
    "bst_sklearn.fit(Xtrain, Ytrain,eval_metric=\"auc\")\n",
    "#预测数据\n",
    "Y_pred = bst_sklearn.predict(Xtest)\n",
    "Y_predprob = bst_sklearn.predict_proba(Xtest)[:,1]\n",
    "print_eval( Y_pred,Y_predprob,Ytest)\n"
   ]
  },
  {
   "cell_type": "markdown",
   "metadata": {},
   "source": [
    "调参基本上包括以下四步：\n",
    "Step1：确定“最优树的个数”。\n",
    "Step2：根据确定的学习率和树的个数，调整“树相关的参数”，比如max_depth, min_child_weight, gamma, subsample, colsample_bytree。\n",
    "Step3：为避免过拟合，调“正则化参数”，如lambda, alpha。\n",
    "Step4：用之前调好的参数，减小学习率并增大树个数，确定模型。\n"
   ]
  },
  {
   "cell_type": "code",
   "execution_count": 24,
   "metadata": {
    "scrolled": true
   },
   "outputs": [
    {
     "name": "stdout",
     "output_type": "stream",
     "text": [
      "n_estimators 最优值: 292\n",
      "训练数据的结果分析：\n",
      "\n",
      "AUC: 0.9146\n",
      "Accuracy: 0.8359\n",
      "Recall: 0.8606\n",
      "F1-score: 0.8399\n",
      "Precesion: 0.8201\n",
      "分类报告：\n",
      "               precision    recall  f1-score   support\n",
      "\n",
      "           0       0.85      0.81      0.83      3638\n",
      "           1       0.82      0.86      0.84      3638\n",
      "\n",
      "    accuracy                           0.84      7276\n",
      "   macro avg       0.84      0.84      0.84      7276\n",
      "weighted avg       0.84      0.84      0.84      7276\n",
      "\n",
      "混淆矩阵：\n",
      " [[2951  687]\n",
      " [ 507 3131]]\n"
     ]
    },
    {
     "data": {
      "image/png": "[encoded data removed]",
      "text/plain": [
       "<Figure size 576x432 with 2 Axes>"
      ]
     },
     "metadata": {
      "needs_background": "light"
     },
     "output_type": "display_data"
    },
    {
     "name": "stdout",
     "output_type": "stream",
     "text": [
      "测试数据的结果分析：\n",
      "\n",
      "AUC: 0.8316\n",
      "Accuracy: 0.7668\n",
      "Recall: 0.6889\n",
      "F1-score: 0.6210\n",
      "Precesion: 0.5652\n",
      "分类报告：\n",
      "               precision    recall  f1-score   support\n",
      "\n",
      "           0       0.87      0.80      0.83      1525\n",
      "           1       0.57      0.69      0.62       585\n",
      "\n",
      "    accuracy                           0.77      2110\n",
      "   macro avg       0.72      0.74      0.73      2110\n",
      "weighted avg       0.79      0.77      0.77      2110\n",
      "\n",
      "混淆矩阵：\n",
      " [[1215  310]\n",
      " [ 182  403]]\n"
     ]
    },
    {
     "data": {
      "image/png": "[encoded data removed]",
      "text/plain": [
       "<Figure size 576x432 with 2 Axes>"
      ]
     },
     "metadata": {
      "needs_background": "light"
     },
     "output_type": "display_data"
    }
   ],
   "source": [
    "#Step1：开始用一个业界公认的学习率0.1，然后根据交叉验证误差作为评估指标，确定基准模型数量。代码如下：\n",
    "bst_sklearn=modelfit( bst_sklearn, Xtrain, Xtest, Ytrain, Ytest)\n"
   ]
  },
  {
   "cell_type": "code",
   "execution_count": 25,
   "metadata": {},
   "outputs": [
    {
     "name": "stdout",
     "output_type": "stream",
     "text": [
      "\n",
      "\n",
      "最佳模型参数grid.best_params_  {'max_depth': 7, 'min_child_weight': 3}\n"
     ]
    }
   ],
   "source": [
    "#（1）使用上一步得到的模型bst_sklearn（树的个数为363），因为参数max_depth和min__child_weight对最终结果有很大的影响，所以先对他们进行数调优。\n",
    "#设置max_depth和min_child_weight的取值\n",
    "xgb_param_grid1 = {\n",
    " \"max_depth\":range(3,10,2),\n",
    " \"min_child_weight\":range(1,6,2)\n",
    "}\n",
    "#GridSearchCV寻优max_depth和min_child_weight\n",
    "gsearch1 = GridSearchCV(estimator =bst_sklearn,\n",
    "                        param_grid=xgb_param_grid1,\n",
    "                        scoring=\"roc_auc\",n_jobs=4,cv=5)\n",
    "\n",
    "gsearch1.fit(Xtrain,Ytrain)\n",
    "print(\"\\n\\n最佳模型参数grid.best_params_ \",gsearch1.best_params_)"
   ]
  },
  {
   "cell_type": "code",
   "execution_count": 26,
   "metadata": {},
   "outputs": [
    {
     "name": "stdout",
     "output_type": "stream",
     "text": [
      "\n",
      "\n",
      "最佳模型参数grid.best_params_  {'max_depth': 6, 'min_child_weight': 3}\n"
     ]
    }
   ],
   "source": [
    "#微调max_depth和min_child_weight，让其分别在5和1的基础上浮动1，代码如下：\n",
    "#获得gsearch1.best_estimator_\n",
    "bst_sklearn=gsearch1.best_estimator_\n",
    "#微调并设置max_depth和min_child_weight的取值\n",
    "xgb_param_grid1 = {\n",
    " \"max_depth\":[6,7,8],\n",
    " \"min_child_weight\":[2,3,4]\n",
    "}\n",
    "#GridSearchCV寻优max_depth和min_child_weight\n",
    "gsearch1 = GridSearchCV(estimator =bst_sklearn,param_grid=xgb_param_grid1,\n",
    "                        scoring=\"roc_auc\",n_jobs=4,cv=5)\n",
    "#训练模型\n",
    "gsearch1.fit(Xtrain,Ytrain)\n",
    "print(\"\\n\\n最佳模型参数grid.best_params_ \",gsearch1.best_params_)"
   ]
  },
  {
   "cell_type": "code",
   "execution_count": 27,
   "metadata": {},
   "outputs": [
    {
     "name": "stdout",
     "output_type": "stream",
     "text": [
      "\n",
      "\n",
      "最佳模型参数grid.best_params_  {'gamma': 0.1}\n"
     ]
    }
   ],
   "source": [
    "#（2）在获得的模型gsearch1.best_estimator_基础上对gamma参数调优，\n",
    "#获得gsearch1.best_estimator_\n",
    "bst_sklearn=gsearch1.best_estimator_\n",
    "xgb_param_grid2 = {\"gamma\":[ 0.1 * i for i in range(0,5)]}\n",
    "#GridSearchCV寻优gamma\n",
    "gsearch2 = GridSearchCV(estimator =bst_sklearn,param_grid=xgb_param_grid2,\n",
    "                        scoring=\"roc_auc\",n_jobs=4,cv=5)\n",
    "#训练模型\n",
    "gsearch2.fit(Xtrain,Ytrain)\n",
    "print(\"\\n\\n最佳模型参数grid.best_params_ \",gsearch2.best_params_)\n"
   ]
  },
  {
   "cell_type": "code",
   "execution_count": 28,
   "metadata": {},
   "outputs": [
    {
     "name": "stdout",
     "output_type": "stream",
     "text": [
      "n_estimators 最优值: 203\n",
      "训练数据的结果分析：\n",
      "\n",
      "AUC: 0.9153\n",
      "Accuracy: 0.8381\n",
      "Recall: 0.8571\n",
      "F1-score: 0.8411\n",
      "Precesion: 0.8257\n",
      "分类报告：\n",
      "               precision    recall  f1-score   support\n",
      "\n",
      "           0       0.85      0.82      0.83      3638\n",
      "           1       0.83      0.86      0.84      3638\n",
      "\n",
      "    accuracy                           0.84      7276\n",
      "   macro avg       0.84      0.84      0.84      7276\n",
      "weighted avg       0.84      0.84      0.84      7276\n",
      "\n",
      "混淆矩阵：\n",
      " [[2980  658]\n",
      " [ 520 3118]]\n"
     ]
    },
    {
     "data": {
      "image/png": "[encoded data removed]",
      "text/plain": [
       "<Figure size 576x432 with 2 Axes>"
      ]
     },
     "metadata": {
      "needs_background": "light"
     },
     "output_type": "display_data"
    },
    {
     "name": "stdout",
     "output_type": "stream",
     "text": [
      "测试数据的结果分析：\n",
      "\n",
      "AUC: 0.8319\n",
      "Accuracy: 0.7763\n",
      "Recall: 0.6889\n",
      "F1-score: 0.6307\n",
      "Precesion: 0.5815\n",
      "分类报告：\n",
      "               precision    recall  f1-score   support\n",
      "\n",
      "           0       0.87      0.81      0.84      1525\n",
      "           1       0.58      0.69      0.63       585\n",
      "\n",
      "    accuracy                           0.78      2110\n",
      "   macro avg       0.73      0.75      0.74      2110\n",
      "weighted avg       0.79      0.78      0.78      2110\n",
      "\n",
      "混淆矩阵：\n",
      " [[1235  290]\n",
      " [ 182  403]]\n"
     ]
    },
    {
     "data": {
      "image/png": "[encoded data removed]",
      "text/plain": [
       "<Figure size 576x432 with 2 Axes>"
      ]
     },
     "metadata": {
      "needs_background": "light"
     },
     "output_type": "display_data"
    }
   ],
   "source": [
    "#获得gsearch2.best_estimator_\n",
    "bst_sklearn=gsearch2.best_estimator_\n",
    "#训练模型，返回最优树的个数\n",
    "bst_sklearn=modelfit( bst_sklearn, Xtrain, Xtest, Ytrain, Ytest )\n"
   ]
  },
  {
   "cell_type": "code",
   "execution_count": 30,
   "metadata": {},
   "outputs": [
    {
     "data": {
      "text/plain": [
       "{'objective': 'binary:logistic',\n",
       " 'use_label_encoder': False,\n",
       " 'base_score': 0.5,\n",
       " 'booster': 'gbtree',\n",
       " 'colsample_bylevel': 1,\n",
       " 'colsample_bynode': 1,\n",
       " 'colsample_bytree': 0.8,\n",
       " 'gamma': 0.1,\n",
       " 'gpu_id': -1,\n",
       " 'importance_type': 'gain',\n",
       " 'interaction_constraints': '',\n",
       " 'learning_rate': 0.1,\n",
       " 'max_delta_step': 0,\n",
       " 'max_depth': 6,\n",
       " 'min_child_weight': 3,\n",
       " 'missing': nan,\n",
       " 'monotone_constraints': '()',\n",
       " 'n_estimators': 203,\n",
       " 'n_jobs': 4,\n",
       " 'num_parallel_tree': 1,\n",
       " 'random_state': 18,\n",
       " 'reg_alpha': 0,\n",
       " 'reg_lambda': 1,\n",
       " 'scale_pos_weight': 1,\n",
       " 'subsample': 0.8,\n",
       " 'tree_method': 'exact',\n",
       " 'validate_parameters': 1,\n",
       " 'verbosity': None,\n",
       " 'seed': 18,\n",
       " 'eval_metric': 'auc',\n",
       " 'nthread': 4}"
      ]
     },
     "execution_count": 30,
     "metadata": {},
     "output_type": "execute_result"
    }
   ],
   "source": [
    "bst_sklearn.get_params()"
   ]
  },
  {
   "cell_type": "code",
   "execution_count": null,
   "metadata": {},
   "outputs": [],
   "source": [
    "#获得gsearch3.best_estimator_\n",
    "#bst_sklearn=gsearch3.best_estimator_\n",
    "#训练模型，返回最优树的个数\n",
    "#bst_sklearn=modelfit( bst_sklearn, Xtrain, Xtest, Ytrain, Ytest )"
   ]
  },
  {
   "cell_type": "code",
   "execution_count": 29,
   "metadata": {},
   "outputs": [
    {
     "name": "stdout",
     "output_type": "stream",
     "text": [
      "\n",
      "\n",
      "最佳模型参数grid.best_params_  {'colsample_bytree': 0.9, 'subsample': 0.9}\n"
     ]
    }
   ],
   "source": [
    "#采用类似的方法，调整subsample和colsample_bytree\n",
    "#设置subsample和colsample_bytree的取值\n",
    "xgb_param_grid3 = {\n",
    " \"subsample\":[i/10.0 for i in range(6,10)],\n",
    " \"colsample_bytree\":[i/10.0 for i in range(6,10)]\n",
    "}\n",
    "#GridSearchCV寻优subsample和colsample_bytree\n",
    "gsearch3 = GridSearchCV(estimator =bst_sklearn,param_grid=xgb_param_grid3,\n",
    "                        scoring=\"roc_auc\",n_jobs=4,cv=5)\n",
    "#训练模型\n",
    "gsearch3.fit(Xtrain,Ytrain)\n",
    "print(\"\\n\\n最佳模型参数grid.best_params_ \",gsearch3.best_params_)"
   ]
  },
  {
   "cell_type": "code",
   "execution_count": 35,
   "metadata": {},
   "outputs": [
    {
     "name": "stdout",
     "output_type": "stream",
     "text": [
      "\n",
      "\n",
      "最佳模型参数grid.best_params_  {'reg_alpha': 0.5}\n"
     ]
    }
   ],
   "source": [
    "#Step3：调“正则化参数”，如reg_alpha，再确定最优n_estimators。\n",
    "#设置reg_alpha的取值\n",
    "bst_sklearn=gsearch3.best_estimator_\n",
    "xgb_param_grid4 = { \"reg_alpha\":[ 0.5, 1, 5, 10]}\n",
    "#GridSearchCV寻优reg_alpha\n",
    "gsearch4 = GridSearchCV(estimator =bst_sklearn,param_grid=xgb_param_grid4,\n",
    "                        scoring=\"roc_auc\",n_jobs=4,cv=5)\n",
    "#训练模型\n",
    "gsearch4.fit(Xtrain,Ytrain)\n",
    "print(\"\\n\\n最佳模型参数grid.best_params_ \",gsearch4.best_params_)"
   ]
  },
  {
   "cell_type": "code",
   "execution_count": 36,
   "metadata": {},
   "outputs": [
    {
     "name": "stdout",
     "output_type": "stream",
     "text": [
      "n_estimators 最优值: 203\n",
      "训练数据的结果分析：\n",
      "\n",
      "AUC: 0.9155\n",
      "Accuracy: 0.8384\n",
      "Recall: 0.8587\n",
      "F1-score: 0.8416\n",
      "Precesion: 0.8251\n",
      "分类报告：\n",
      "               precision    recall  f1-score   support\n",
      "\n",
      "           0       0.85      0.82      0.84      3638\n",
      "           1       0.83      0.86      0.84      3638\n",
      "\n",
      "    accuracy                           0.84      7276\n",
      "   macro avg       0.84      0.84      0.84      7276\n",
      "weighted avg       0.84      0.84      0.84      7276\n",
      "\n",
      "混淆矩阵：\n",
      " [[2976  662]\n",
      " [ 514 3124]]\n"
     ]
    },
    {
     "data": {
      "image/png": "[encoded data removed]",
      "text/plain": [
       "<Figure size 576x432 with 2 Axes>"
      ]
     },
     "metadata": {
      "needs_background": "light"
     },
     "output_type": "display_data"
    },
    {
     "name": "stdout",
     "output_type": "stream",
     "text": [
      "测试数据的结果分析：\n",
      "\n",
      "AUC: 0.8319\n",
      "Accuracy: 0.7720\n",
      "Recall: 0.6855\n",
      "F1-score: 0.6251\n",
      "Precesion: 0.5745\n",
      "分类报告：\n",
      "               precision    recall  f1-score   support\n",
      "\n",
      "           0       0.87      0.81      0.84      1525\n",
      "           1       0.57      0.69      0.63       585\n",
      "\n",
      "    accuracy                           0.77      2110\n",
      "   macro avg       0.72      0.75      0.73      2110\n",
      "weighted avg       0.79      0.77      0.78      2110\n",
      "\n",
      "混淆矩阵：\n",
      " [[1228  297]\n",
      " [ 184  401]]\n"
     ]
    },
    {
     "data": {
      "image/png": "[encoded data removed]",
      "text/plain": [
       "<Figure size 576x432 with 2 Axes>"
      ]
     },
     "metadata": {
      "needs_background": "light"
     },
     "output_type": "display_data"
    }
   ],
   "source": [
    "bst_sklearn=gsearch4.best_estimator_\n",
    "#训练模型，返回最优树的个数\n",
    "bst_sklearn=modelfit( bst_sklearn, Xtrain, Xtest, Ytrain, Ytest)\n"
   ]
  },
  {
   "cell_type": "code",
   "execution_count": 37,
   "metadata": {},
   "outputs": [
    {
     "name": "stdout",
     "output_type": "stream",
     "text": [
      "n_estimators 最优值: 1645\n",
      "训练数据的结果分析：\n",
      "\n",
      "AUC: 0.9128\n",
      "Accuracy: 0.8355\n",
      "Recall: 0.8535\n",
      "F1-score: 0.8384\n",
      "Precesion: 0.8238\n",
      "分类报告：\n",
      "               precision    recall  f1-score   support\n",
      "\n",
      "           0       0.85      0.82      0.83      3638\n",
      "           1       0.82      0.85      0.84      3638\n",
      "\n",
      "    accuracy                           0.84      7276\n",
      "   macro avg       0.84      0.84      0.84      7276\n",
      "weighted avg       0.84      0.84      0.84      7276\n",
      "\n",
      "混淆矩阵：\n",
      " [[2974  664]\n",
      " [ 533 3105]]\n"
     ]
    },
    {
     "data": {
      "image/png": "[encoded data removed]",
      "text/plain": [
       "<Figure size 576x432 with 2 Axes>"
      ]
     },
     "metadata": {
      "needs_background": "light"
     },
     "output_type": "display_data"
    },
    {
     "name": "stdout",
     "output_type": "stream",
     "text": [
      "测试数据的结果分析：\n",
      "\n",
      "AUC: 0.8341\n",
      "Accuracy: 0.7763\n",
      "Recall: 0.6906\n",
      "F1-score: 0.6312\n",
      "Precesion: 0.5813\n",
      "分类报告：\n",
      "               precision    recall  f1-score   support\n",
      "\n",
      "           0       0.87      0.81      0.84      1525\n",
      "           1       0.58      0.69      0.63       585\n",
      "\n",
      "    accuracy                           0.78      2110\n",
      "   macro avg       0.73      0.75      0.74      2110\n",
      "weighted avg       0.79      0.78      0.78      2110\n",
      "\n",
      "混淆矩阵：\n",
      " [[1234  291]\n",
      " [ 181  404]]\n"
     ]
    },
    {
     "data": {
      "image/png": "[encoded data removed]",
      "text/plain": [
       "<Figure size 576x432 with 2 Axes>"
      ]
     },
     "metadata": {
      "needs_background": "light"
     },
     "output_type": "display_data"
    }
   ],
   "source": [
    "#Step4：用调好的参数，使用更小的学习率并增大n_estimaors，训练模型并评估，代码如下：\n",
    "#获得gsearch4.best_estimator_\n",
    "bst_sklearn=gsearch4.best_estimator_\n",
    "bst_sklearn.set_params(n_estimators=2000,learning_rate=0.01)\n",
    "#训练模型并评估\n",
    "bst_sklearn=modelfit( bst_sklearn, Xtrain, Xtest, Ytrain, Ytest)\n"
   ]
  },
  {
   "cell_type": "code",
   "execution_count": null,
   "metadata": {},
   "outputs": [],
   "source": []
  }
 ],
 "metadata": {
  "kernelspec": {
   "display_name": "Python 3",
   "language": "python",
   "name": "python3"
  },
  "language_info": {
   "codemirror_mode": {
    "name": "ipython",
    "version": 3
   },
   "file_extension": ".py",
   "mimetype": "text/x-python",
   "name": "python",
   "nbconvert_exporter": "python",
   "pygments_lexer": "ipython3",
   "version": "3.7.2"
  }
 },
 "nbformat": 4,
 "nbformat_minor": 2
}
