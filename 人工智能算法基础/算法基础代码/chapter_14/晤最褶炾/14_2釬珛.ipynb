{
 "cells": [
  {
   "cell_type": "markdown",
   "metadata": {},
   "source": [
    "特征工程"
   ]
  },
  {
   "cell_type": "code",
   "execution_count": 1,
   "metadata": {},
   "outputs": [],
   "source": [
    "#数据集和数据处理\n",
    "import warnings\n",
    "warnings.filterwarnings('ignore')\n",
    "import pandas as pd\n",
    "import numpy as np\n",
    "import matplotlib.pyplot as plt\n",
    "plt.rcParams[\"font.sans-serif\"] = [\"SimHei\"]  #显示中文\n",
    "%matplotlib inline\n",
    "from sklearn.model_selection import GridSearchCV\n",
    "import seaborn as sns\n",
    "from sklearn.model_selection import train_test_split as TTS\n",
    "from imblearn.over_sampling import SMOTE\n",
    "from sklearn import metrics\n",
    "from xgboost.sklearn import XGBClassifier\n",
    "import xgboost as xgb\n",
    "\n"
   ]
  },
  {
   "cell_type": "code",
   "execution_count": 2,
   "metadata": {},
   "outputs": [],
   "source": [
    "seed = 18"
   ]
  },
  {
   "cell_type": "code",
   "execution_count": 3,
   "metadata": {},
   "outputs": [],
   "source": [
    "#导入数据\n",
    "data = pd.read_csv('pima-indians-diabetes.csv')"
   ]
  },
  {
   "cell_type": "code",
   "execution_count": 4,
   "metadata": {},
   "outputs": [],
   "source": [
    "#分离特征和标签\n",
    "dataset = data.values\n",
    "X = dataset[:,0:-1]\n",
    "y = dataset[:,-1]"
   ]
  },
  {
   "cell_type": "code",
   "execution_count": 6,
   "metadata": {},
   "outputs": [],
   "source": [
    "# 将数据拆分为训练集和测试集\n",
    "Xtrain, Xtest, Ytrain, Ytest = TTS(X, y, test_size=0.3,\n",
    "random_state=seed)"
   ]
  },
  {
   "cell_type": "markdown",
   "metadata": {},
   "source": [
    "xgboost模型构建"
   ]
  },
  {
   "cell_type": "code",
   "execution_count": 7,
   "metadata": {},
   "outputs": [],
   "source": [
    "#定义了一个二分类问题预测结果输出的函数，实现输出概率，评价指标：准确率、召回率、AUC、混淆矩阵、分类报告等结果信息。\n",
    "def print_eval(Ypred,Ypredprob,Ytest,):\n",
    "    '''\n",
    "    :param Ypred：预测的分类结果\n",
    "    :param Ypredprob：预测的分类概率\n",
    "    :param Ytest：真实值\n",
    "    :return: None\n",
    "    '''\n",
    "    print (\"AUC: %.4f\" % metrics.roc_auc_score(Ytest, Ypredprob))\n",
    "    print (\"Accuracy: %.4f\" % metrics.accuracy_score(Ytest, Ypred))\n",
    "    print (\"Recall: %.4f\" % metrics.recall_score(Ytest, Ypred))\n",
    "    print (\"F1-score: %.4f\" %metrics.f1_score(Ytest, Ypred))\n",
    "    print (\"Precesion: %.4f\" %metrics.precision_score(Ytest, Ypred))\n",
    "    print(\"分类报告：\\n\",metrics.classification_report(Ytest, Ypred))\n",
    "    confusion_matrix_result = metrics.confusion_matrix(Ytest, Ypred)\n",
    "    print(\"混淆矩阵：\\n\",confusion_matrix_result)\n",
    "    # 利用热力图对于结果进行可视化\n",
    "    plt.figure(figsize=(8, 6))\n",
    "    sns.heatmap(confusion_matrix_result, annot=True, cmap=\"Blues\",fmt=\".0f\")\n",
    "    plt.xlabel(\"Predicted labels\")\n",
    "    plt.ylabel(\"True labels\")\n",
    "    plt.show()\n"
   ]
  },
  {
   "cell_type": "code",
   "execution_count": 8,
   "metadata": {},
   "outputs": [],
   "source": [
    "#定义一个用于交叉验证的函数，该代码如下：\n",
    "def modelfit( model, X_train, X_test, Y_train, Y_test, useTrainCV=True, \n",
    "             cv_folds=5, early_stopping_rounds=50 ):\n",
    "    '''\n",
    "    :param model：xgboost模型\n",
    "    :param X_train, X_test, Y_train, Y_test：训练集、测试集\n",
    "    : param useTrainCV：是否使用cv函数\n",
    "    :return: model：xgboost模型\n",
    "    '''\n",
    "    #若训练中使用交叉验证\n",
    "    if useTrainCV:\n",
    "        #获取模型参数\n",
    "        xgb_param = model.get_xgb_params()\n",
    "        num_boost=model.get_params()[\"n_estimators\"]\n",
    "        Dtrain = xgb.DMatrix(X_train, Y_train )\n",
    "        cv_result  = xgb.cv(xgb_param, Dtrain, \n",
    "                          num_boost_round=num_boost, \n",
    "                          nfold=cv_folds,metrics=\"auc\", \n",
    "                          early_stopping_rounds=early_stopping_rounds)\n",
    "        model.set_params( n_estimators=cv_result .shape[0] )\n",
    "    \n",
    "    print( \"n_estimators 最优值: %d\" % cv_result .shape[0] )\n",
    "    \n",
    "    # 在训练集上训练model，评估指标为AUC\n",
    "    model.fit( X_train, Y_train, eval_metric=\"auc\" )\n",
    "        \n",
    "    # 根据训练好的模型，在训练数据上进行预测\n",
    "    pred_train = model.predict( X_train )\n",
    "    predprob_train = model.predict_proba( X_train )[:,1]\n",
    "    \n",
    "    # 根据训练好的模型，在测试数据上进行预测\n",
    "    pred_test = model.predict( X_test )\n",
    "    predprob_test = model.predict_proba( X_test )[:,1]    \n",
    "    \n",
    "    #输出预测的结果分析\n",
    "    print(\"训练数据的结果分析：\\n\")\n",
    "    print_eval(pred_train, predprob_train, Y_train)\n",
    "    print(\"测试数据的结果分析：\\n\")\n",
    "    print_eval(pred_test,predprob_test,Y_test)\n",
    "    return model"
   ]
  },
  {
   "cell_type": "code",
   "execution_count": 9,
   "metadata": {},
   "outputs": [
    {
     "name": "stdout",
     "output_type": "stream",
     "text": [
      "AUC: 0.7579\n",
      "Accuracy: 0.7359\n",
      "Recall: 0.5679\n",
      "F1-score: 0.6013\n",
      "Precesion: 0.6389\n",
      "分类报告：\n",
      "               precision    recall  f1-score   support\n",
      "\n",
      "         0.0       0.78      0.83      0.80       150\n",
      "         1.0       0.64      0.57      0.60        81\n",
      "\n",
      "    accuracy                           0.74       231\n",
      "   macro avg       0.71      0.70      0.70       231\n",
      "weighted avg       0.73      0.74      0.73       231\n",
      "\n",
      "混淆矩阵：\n",
      " [[124  26]\n",
      " [ 35  46]]\n"
     ]
    },
    {
     "data": {
      "image/png": "[encoded data removed]",
      "text/plain": [
       "<Figure size 576x432 with 2 Axes>"
      ]
     },
     "metadata": {
      "needs_background": "light"
     },
     "output_type": "display_data"
    }
   ],
   "source": [
    "#设seed为统一值\n",
    "seed=18 \n",
    "#设计模型参数\n",
    "xgb_params_sklearn = {\n",
    "    \"n_estimators\": 1000, #基础模型的数量\n",
    "    \"booster\": \"gbtree\",  #基础模型的类型\n",
    "    \"objective\": \"binary:logistic\",#二分类问题\n",
    "    \"seed\": seed,         #随机种子\n",
    "    \"learning_rate\": 0.1, #学习率 \n",
    "    \"gamma\": 0.1,         # 用于控制是否后剪枝的参数,越大越保守\n",
    "    \"colsample_bytree\": 0.8,# 生成模型时进行的列采样 \n",
    "    \"subsample\": 0.8,       # 随机采样训练样本 \n",
    "    \"max_depth\": 5,         # 构建模型的深度，越大越容易过拟合\n",
    "    \"min_child_weight\": 1,  #最小叶子节点样本权重之和\n",
    "    \"eval_metric\": \"auc\",   #模型训练的损失函数为AUC\n",
    "    \"nthread\": 4,           # CPU线程数 \n",
    "}\n",
    "\n",
    "#训练模型\n",
    "bst_sklearn=XGBClassifier(**xgb_params_sklearn,use_label_encoder=False)\n",
    "bst_sklearn.fit(Xtrain, Ytrain,eval_metric=\"auc\")\n",
    "#预测数据\n",
    "Y_pred = bst_sklearn.predict(Xtest)\n",
    "Y_predprob = bst_sklearn.predict_proba(Xtest)[:,1]\n",
    "print_eval( Y_pred,Y_predprob,Ytest)\n"
   ]
  },
  {
   "cell_type": "markdown",
   "metadata": {},
   "source": [
    "调参基本上包括以下四步：\n",
    "Step1：确定“最优树的个数”。\n",
    "Step2：根据确定的学习率和树的个数，调整“树相关的参数”，比如max_depth, min_child_weight, gamma, subsample, colsample_bytree。\n",
    "Step3：为避免过拟合，调“正则化参数”，如lambda, alpha。\n",
    "Step4：用之前调好的参数，减小学习率并增大树个数，确定模型。\n"
   ]
  },
  {
   "cell_type": "code",
   "execution_count": 10,
   "metadata": {
    "scrolled": true
   },
   "outputs": [
    {
     "name": "stdout",
     "output_type": "stream",
     "text": [
      "n_estimators 最优值: 44\n",
      "训练数据的结果分析：\n",
      "\n",
      "AUC: 0.9838\n",
      "Accuracy: 0.9385\n",
      "Recall: 0.8877\n",
      "F1-score: 0.9096\n",
      "Precesion: 0.9326\n",
      "分类报告：\n",
      "               precision    recall  f1-score   support\n",
      "\n",
      "         0.0       0.94      0.97      0.95       350\n",
      "         1.0       0.93      0.89      0.91       187\n",
      "\n",
      "    accuracy                           0.94       537\n",
      "   macro avg       0.94      0.93      0.93       537\n",
      "weighted avg       0.94      0.94      0.94       537\n",
      "\n",
      "混淆矩阵：\n",
      " [[338  12]\n",
      " [ 21 166]]\n"
     ]
    },
    {
     "data": {
      "image/png": "[encoded data removed]",
      "text/plain": [
       "<Figure size 576x432 with 2 Axes>"
      ]
     },
     "metadata": {
      "needs_background": "light"
     },
     "output_type": "display_data"
    },
    {
     "name": "stdout",
     "output_type": "stream",
     "text": [
      "测试数据的结果分析：\n",
      "\n",
      "AUC: 0.7837\n",
      "Accuracy: 0.7273\n",
      "Recall: 0.4938\n",
      "F1-score: 0.5594\n",
      "Precesion: 0.6452\n",
      "分类报告：\n",
      "               precision    recall  f1-score   support\n",
      "\n",
      "         0.0       0.76      0.85      0.80       150\n",
      "         1.0       0.65      0.49      0.56        81\n",
      "\n",
      "    accuracy                           0.73       231\n",
      "   macro avg       0.70      0.67      0.68       231\n",
      "weighted avg       0.72      0.73      0.72       231\n",
      "\n",
      "混淆矩阵：\n",
      " [[128  22]\n",
      " [ 41  40]]\n"
     ]
    },
    {
     "data": {
      "image/png": "[encoded data removed]",
      "text/plain": [
       "<Figure size 576x432 with 2 Axes>"
      ]
     },
     "metadata": {
      "needs_background": "light"
     },
     "output_type": "display_data"
    }
   ],
   "source": [
    "#Step1：开始用一个业界公认的学习率0.1，然后根据交叉验证误差作为评估指标，确定基准模型数量。代码如下：\n",
    "bst_sklearn=modelfit( bst_sklearn, Xtrain, Xtest, Ytrain, Ytest)\n"
   ]
  },
  {
   "cell_type": "code",
   "execution_count": 11,
   "metadata": {},
   "outputs": [
    {
     "name": "stdout",
     "output_type": "stream",
     "text": [
      "\n",
      "\n",
      "最佳模型参数grid.best_params_  {'max_depth': 3, 'min_child_weight': 5}\n"
     ]
    }
   ],
   "source": [
    "#（1）使用上一步得到的模型bst_sklearn（树的个数为363），因为参数max_depth和min__child_weight对最终结果有很大的影响，所以先对他们进行数调优。\n",
    "#设置max_depth和min_child_weight的取值\n",
    "xgb_param_grid1 = {\n",
    " \"max_depth\":range(3,10,2),\n",
    " \"min_child_weight\":range(1,6,2)\n",
    "}\n",
    "#GridSearchCV寻优max_depth和min_child_weight\n",
    "gsearch1 = GridSearchCV(estimator =bst_sklearn,\n",
    "                        param_grid=xgb_param_grid1,\n",
    "                        scoring=\"roc_auc\",n_jobs=4,cv=5)\n",
    "\n",
    "gsearch1.fit(Xtrain,Ytrain)\n",
    "print(\"\\n\\n最佳模型参数grid.best_params_ \",gsearch1.best_params_)"
   ]
  },
  {
   "cell_type": "code",
   "execution_count": 12,
   "metadata": {},
   "outputs": [
    {
     "name": "stdout",
     "output_type": "stream",
     "text": [
      "\n",
      "\n",
      "最佳模型参数grid.best_params_  {'max_depth': 3, 'min_child_weight': 6}\n"
     ]
    }
   ],
   "source": [
    "#微调max_depth和min_child_weight，让其分别在3和5的基础上浮动1，代码如下：\n",
    "#获得gsearch1.best_estimator_\n",
    "bst_sklearn=gsearch1.best_estimator_\n",
    "#微调并设置max_depth和min_child_weight的取值\n",
    "xgb_param_grid1 = {\n",
    " \"max_depth\":[2,3,4],\n",
    " \"min_child_weight\":[4,5,6]\n",
    "}\n",
    "#GridSearchCV寻优max_depth和min_child_weight\n",
    "gsearch1 = GridSearchCV(estimator =bst_sklearn,param_grid=xgb_param_grid1,\n",
    "                        scoring=\"roc_auc\",n_jobs=4,cv=5)\n",
    "#训练模型\n",
    "gsearch1.fit(Xtrain,Ytrain)\n",
    "print(\"\\n\\n最佳模型参数grid.best_params_ \",gsearch1.best_params_)"
   ]
  },
  {
   "cell_type": "code",
   "execution_count": 13,
   "metadata": {},
   "outputs": [
    {
     "name": "stdout",
     "output_type": "stream",
     "text": [
      "\n",
      "\n",
      "最佳模型参数grid.best_params_  {'gamma': 0.2}\n"
     ]
    }
   ],
   "source": [
    "#（2）在获得的模型gsearch1.best_estimator_基础上对gamma参数调优，\n",
    "#获得gsearch1.best_estimator_\n",
    "bst_sklearn=gsearch1.best_estimator_\n",
    "xgb_param_grid2 = {\"gamma\":[ 0.1 * i for i in range(0,5)]}\n",
    "#GridSearchCV寻优gamma\n",
    "gsearch2 = GridSearchCV(estimator =bst_sklearn,param_grid=xgb_param_grid2,\n",
    "                        scoring=\"roc_auc\",n_jobs=4,cv=5)\n",
    "#训练模型\n",
    "gsearch2.fit(Xtrain,Ytrain)\n",
    "print(\"\\n\\n最佳模型参数grid.best_params_ \",gsearch2.best_params_)\n"
   ]
  },
  {
   "cell_type": "code",
   "execution_count": 14,
   "metadata": {},
   "outputs": [
    {
     "name": "stdout",
     "output_type": "stream",
     "text": [
      "n_estimators 最优值: 44\n",
      "训练数据的结果分析：\n",
      "\n",
      "AUC: 0.9194\n",
      "Accuracy: 0.8324\n",
      "Recall: 0.7219\n",
      "F1-score: 0.7500\n",
      "Precesion: 0.7803\n",
      "分类报告：\n",
      "               precision    recall  f1-score   support\n",
      "\n",
      "         0.0       0.86      0.89      0.87       350\n",
      "         1.0       0.78      0.72      0.75       187\n",
      "\n",
      "    accuracy                           0.83       537\n",
      "   macro avg       0.82      0.81      0.81       537\n",
      "weighted avg       0.83      0.83      0.83       537\n",
      "\n",
      "混淆矩阵：\n",
      " [[312  38]\n",
      " [ 52 135]]\n"
     ]
    },
    {
     "data": {
      "image/png": "[encoded data removed]",
      "text/plain": [
       "<Figure size 576x432 with 2 Axes>"
      ]
     },
     "metadata": {
      "needs_background": "light"
     },
     "output_type": "display_data"
    },
    {
     "name": "stdout",
     "output_type": "stream",
     "text": [
      "测试数据的结果分析：\n",
      "\n",
      "AUC: 0.7868\n",
      "Accuracy: 0.7359\n",
      "Recall: 0.5062\n",
      "F1-score: 0.5734\n",
      "Precesion: 0.6613\n",
      "分类报告：\n",
      "               precision    recall  f1-score   support\n",
      "\n",
      "         0.0       0.76      0.86      0.81       150\n",
      "         1.0       0.66      0.51      0.57        81\n",
      "\n",
      "    accuracy                           0.74       231\n",
      "   macro avg       0.71      0.68      0.69       231\n",
      "weighted avg       0.73      0.74      0.73       231\n",
      "\n",
      "混淆矩阵：\n",
      " [[129  21]\n",
      " [ 40  41]]\n"
     ]
    },
    {
     "data": {
      "image/png": "[encoded data removed]",
      "text/plain": [
       "<Figure size 576x432 with 2 Axes>"
      ]
     },
     "metadata": {
      "needs_background": "light"
     },
     "output_type": "display_data"
    }
   ],
   "source": [
    "#获得gsearch2.best_estimator_\n",
    "bst_sklearn=gsearch2.best_estimator_\n",
    "#训练模型，返回最优树的个数\n",
    "bst_sklearn=modelfit( bst_sklearn, Xtrain, Xtest, Ytrain, Ytest )\n"
   ]
  },
  {
   "cell_type": "code",
   "execution_count": 15,
   "metadata": {},
   "outputs": [
    {
     "name": "stdout",
     "output_type": "stream",
     "text": [
      "\n",
      "\n",
      "最佳模型参数grid.best_params_  {'colsample_bytree': 0.8, 'subsample': 0.8}\n"
     ]
    }
   ],
   "source": [
    "#采用类似的方法，调整subsample和colsample_bytree\n",
    "#设置subsample和colsample_bytree的取值\n",
    "xgb_param_grid3 = {\n",
    " \"subsample\":[i/10.0 for i in range(6,10)],\n",
    " \"colsample_bytree\":[i/10.0 for i in range(6,10)]\n",
    "}\n",
    "#GridSearchCV寻优subsample和colsample_bytree\n",
    "gsearch3 = GridSearchCV(estimator =bst_sklearn,param_grid=xgb_param_grid3,\n",
    "                        scoring=\"roc_auc\",n_jobs=4,cv=5)\n",
    "#训练模型\n",
    "gsearch3.fit(Xtrain,Ytrain)\n",
    "print(\"\\n\\n最佳模型参数grid.best_params_ \",gsearch3.best_params_)"
   ]
  },
  {
   "cell_type": "code",
   "execution_count": 16,
   "metadata": {},
   "outputs": [
    {
     "name": "stdout",
     "output_type": "stream",
     "text": [
      "\n",
      "\n",
      "最佳模型参数grid.best_params_  {'reg_alpha': 0.5}\n"
     ]
    }
   ],
   "source": [
    "#Step3：调“正则化参数”，如reg_alpha，再确定最优n_estimators。\n",
    "#设置reg_alpha的取值\n",
    "bst_sklearn=gsearch3.best_estimator_\n",
    "xgb_param_grid4 = { \"reg_alpha\":[ 0.5, 1, 5, 10]}\n",
    "#GridSearchCV寻优reg_alpha\n",
    "gsearch4 = GridSearchCV(estimator =bst_sklearn,param_grid=xgb_param_grid4,\n",
    "                        scoring=\"roc_auc\",n_jobs=4,cv=5)\n",
    "#训练模型\n",
    "gsearch4.fit(Xtrain,Ytrain)\n",
    "print(\"\\n\\n最佳模型参数grid.best_params_ \",gsearch4.best_params_)"
   ]
  },
  {
   "cell_type": "code",
   "execution_count": 17,
   "metadata": {},
   "outputs": [
    {
     "name": "stdout",
     "output_type": "stream",
     "text": [
      "n_estimators 最优值: 44\n",
      "训练数据的结果分析：\n",
      "\n",
      "AUC: 0.9156\n",
      "Accuracy: 0.8399\n",
      "Recall: 0.7273\n",
      "F1-score: 0.7598\n",
      "Precesion: 0.7953\n",
      "分类报告：\n",
      "               precision    recall  f1-score   support\n",
      "\n",
      "         0.0       0.86      0.90      0.88       350\n",
      "         1.0       0.80      0.73      0.76       187\n",
      "\n",
      "    accuracy                           0.84       537\n",
      "   macro avg       0.83      0.81      0.82       537\n",
      "weighted avg       0.84      0.84      0.84       537\n",
      "\n",
      "混淆矩阵：\n",
      " [[315  35]\n",
      " [ 51 136]]\n"
     ]
    },
    {
     "data": {
      "image/png": "[encoded data removed]",
      "text/plain": [
       "<Figure size 576x432 with 2 Axes>"
      ]
     },
     "metadata": {
      "needs_background": "light"
     },
     "output_type": "display_data"
    },
    {
     "name": "stdout",
     "output_type": "stream",
     "text": [
      "测试数据的结果分析：\n",
      "\n",
      "AUC: 0.7835\n",
      "Accuracy: 0.7273\n",
      "Recall: 0.5062\n",
      "F1-score: 0.5655\n",
      "Precesion: 0.6406\n",
      "分类报告：\n",
      "               precision    recall  f1-score   support\n",
      "\n",
      "         0.0       0.76      0.85      0.80       150\n",
      "         1.0       0.64      0.51      0.57        81\n",
      "\n",
      "    accuracy                           0.73       231\n",
      "   macro avg       0.70      0.68      0.68       231\n",
      "weighted avg       0.72      0.73      0.72       231\n",
      "\n",
      "混淆矩阵：\n",
      " [[127  23]\n",
      " [ 40  41]]\n"
     ]
    },
    {
     "data": {
      "image/png": "[encoded data removed]",
      "text/plain": [
       "<Figure size 576x432 with 2 Axes>"
      ]
     },
     "metadata": {
      "needs_background": "light"
     },
     "output_type": "display_data"
    }
   ],
   "source": [
    "bst_sklearn=gsearch4.best_estimator_\n",
    "#训练模型，返回最优树的个数\n",
    "bst_sklearn=modelfit( bst_sklearn, Xtrain, Xtest, Ytrain, Ytest)\n"
   ]
  },
  {
   "cell_type": "code",
   "execution_count": 18,
   "metadata": {},
   "outputs": [
    {
     "name": "stdout",
     "output_type": "stream",
     "text": [
      "n_estimators 最优值: 320\n",
      "训练数据的结果分析：\n",
      "\n",
      "AUC: 0.9087\n",
      "Accuracy: 0.8231\n",
      "Recall: 0.6898\n",
      "F1-score: 0.7309\n",
      "Precesion: 0.7771\n",
      "分类报告：\n",
      "               precision    recall  f1-score   support\n",
      "\n",
      "         0.0       0.84      0.89      0.87       350\n",
      "         1.0       0.78      0.69      0.73       187\n",
      "\n",
      "    accuracy                           0.82       537\n",
      "   macro avg       0.81      0.79      0.80       537\n",
      "weighted avg       0.82      0.82      0.82       537\n",
      "\n",
      "混淆矩阵：\n",
      " [[313  37]\n",
      " [ 58 129]]\n"
     ]
    },
    {
     "data": {
      "image/png": "[encoded data removed]",
      "text/plain": [
       "<Figure size 576x432 with 2 Axes>"
      ]
     },
     "metadata": {
      "needs_background": "light"
     },
     "output_type": "display_data"
    },
    {
     "name": "stdout",
     "output_type": "stream",
     "text": [
      "测试数据的结果分析：\n",
      "\n",
      "AUC: 0.7881\n",
      "Accuracy: 0.7273\n",
      "Recall: 0.4938\n",
      "F1-score: 0.5594\n",
      "Precesion: 0.6452\n",
      "分类报告：\n",
      "               precision    recall  f1-score   support\n",
      "\n",
      "         0.0       0.76      0.85      0.80       150\n",
      "         1.0       0.65      0.49      0.56        81\n",
      "\n",
      "    accuracy                           0.73       231\n",
      "   macro avg       0.70      0.67      0.68       231\n",
      "weighted avg       0.72      0.73      0.72       231\n",
      "\n",
      "混淆矩阵：\n",
      " [[128  22]\n",
      " [ 41  40]]\n"
     ]
    },
    {
     "data": {
      "image/png": "[encoded data removed]",
      "text/plain": [
       "<Figure size 576x432 with 2 Axes>"
      ]
     },
     "metadata": {
      "needs_background": "light"
     },
     "output_type": "display_data"
    }
   ],
   "source": [
    "#Step4：用调好的参数，使用更小的学习率并增大n_estimaors，训练模型并评估，代码如下：\n",
    "#获得gsearch4.best_estimator_\n",
    "bst_sklearn=gsearch4.best_estimator_\n",
    "bst_sklearn.set_params(n_estimators=2000,learning_rate=0.01)\n",
    "#训练模型并评估\n",
    "bst_sklearn=modelfit( bst_sklearn, Xtrain, Xtest, Ytrain, Ytest)\n"
   ]
  },
  {
   "cell_type": "code",
   "execution_count": null,
   "metadata": {},
   "outputs": [],
   "source": []
  }
 ],
 "metadata": {
  "kernelspec": {
   "display_name": "Python 3",
   "language": "python",
   "name": "python3"
  },
  "language_info": {
   "codemirror_mode": {
    "name": "ipython",
    "version": 3
   },
   "file_extension": ".py",
   "mimetype": "text/x-python",
   "name": "python",
   "nbconvert_exporter": "python",
   "pygments_lexer": "ipython3",
   "version": "3.7.2"
  }
 },
 "nbformat": 4,
 "nbformat_minor": 2
}
